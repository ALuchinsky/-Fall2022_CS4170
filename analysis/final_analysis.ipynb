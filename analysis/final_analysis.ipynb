{
 "cells": [
  {
   "cell_type": "code",
   "execution_count": 1,
   "metadata": {},
   "outputs": [],
   "source": [
    "import numpy as np\n",
    "import os\n",
    "import pandas as pd\n",
    "import matplotlib.pyplot as plt"
   ]
  },
  {
   "cell_type": "code",
   "execution_count": 2,
   "metadata": {},
   "outputs": [
    {
     "data": {
      "text/plain": [
       "'/users/PCS0268/luchinsky/CS4170_FA2022_Final_Luchinsky/analysis'"
      ]
     },
     "execution_count": 2,
     "metadata": {},
     "output_type": "execute_result"
    }
   ],
   "source": [
    "os.getcwd()"
   ]
  },
  {
   "cell_type": "code",
   "execution_count": 31,
   "metadata": {},
   "outputs": [
    {
     "name": "stdout",
     "output_type": "stream",
     "text": [
      "n= 50\n"
     ]
    }
   ],
   "source": [
    "inA = np.loadtxt(\"../Default/in_hA.txt\")\n",
    "in_ev = np.sort(np.linalg.eig(inA)[0])\n",
    "outA = np.loadtxt(\"../Default/out_hA.txt\")\n",
    "out_ev = np.sort(np.linalg.eig(outA)[0])\n",
    "n = outA.shape[0]\n",
    "print(\"n=\", n)"
   ]
  },
  {
   "cell_type": "code",
   "execution_count": 32,
   "metadata": {},
   "outputs": [
    {
     "data": {
      "text/plain": [
       "array([1.82614298, 1.67842203, 1.62966158, 1.50127837, 1.42446315,\n",
       "       1.38776813, 1.32182699, 1.26000578, 1.18208688, 1.11804215,\n",
       "       1.00120828, 0.99978286, 1.00279951, 1.00113014, 1.00510366,\n",
       "       1.00367123, 1.00300245, 1.00005644, 1.00307571, 0.99448732,\n",
       "       1.00352692, 0.99802016, 1.02506879, 0.99158746, 0.98313787,\n",
       "       1.05616028, 1.0106709 , 1.01307375, 0.9911172 , 1.00244526,\n",
       "       0.99697713, 1.00505412, 1.00462298, 1.00274497, 1.00289312,\n",
       "       1.00028681, 1.00097097, 1.00044422, 0.99717424, 1.00270123,\n",
       "       0.9964779 , 1.00208161, 0.9971238 , 0.99881812, 1.00177349,\n",
       "       1.00164156, 0.99866068, 0.99765241, 0.99866177, 4.259276  ])"
      ]
     },
     "execution_count": 32,
     "metadata": {},
     "output_type": "execute_result"
    }
   ],
   "source": [
    "# comparing eigenvalues\n",
    "c_ev = np.loadtxt(\"../Default/ev_out.txt\")[:,1]\n",
    "in_ev/c_ev"
   ]
  },
  {
   "cell_type": "code",
   "execution_count": 33,
   "metadata": {},
   "outputs": [
    {
     "data": {
      "text/plain": [
       "array([-363.80237786, -334.37355917, -324.65955038, -299.08317561,\n",
       "       -283.78012492, -276.46977973, -263.33305093, -251.01709117,\n",
       "       -235.49416605, -222.7352392 , -194.76604744, -175.74283137,\n",
       "       -160.60435836, -155.64470104, -151.55053559, -148.1980788 ,\n",
       "       -124.59196157,  -96.09922312,  -88.55272759,  -75.36344245,\n",
       "        -66.6404096 ,  -55.35898085,  -29.63084348,  -25.56431466,\n",
       "         -8.44884108,   -5.77587651,   19.73961546,   45.11338989,\n",
       "         54.97608155,   65.00236017,   70.87889285,   87.15708737,\n",
       "        101.2469084 ,  118.29282115,  132.41298206,  135.19476401,\n",
       "        141.54330096,  163.35353339,  173.72669833,  187.22337081,\n",
       "        215.6437954 ,  226.25098729,  257.8502322 ,  266.09113927,\n",
       "        271.57478282,  280.92940618,  314.42232302,  323.45786748,\n",
       "        379.9598435 , 2552.23910496])"
      ]
     },
     "execution_count": 33,
     "metadata": {},
     "output_type": "execute_result"
    }
   ],
   "source": [
    "in_ev"
   ]
  },
  {
   "cell_type": "code",
   "execution_count": 20,
   "metadata": {},
   "outputs": [
    {
     "data": {
      "text/plain": [
       "array([-111.86682731,  -80.19007661,  -64.9540301 ,  -20.75114924,\n",
       "         -5.35824799,   20.7043155 ,   46.48334569,   93.8199835 ,\n",
       "        157.55283056,  520.55985601])"
      ]
     },
     "execution_count": 20,
     "metadata": {},
     "output_type": "execute_result"
    }
   ],
   "source": [
    "in_ev"
   ]
  },
  {
   "cell_type": "code",
   "execution_count": 19,
   "metadata": {},
   "outputs": [
    {
     "data": {
      "text/plain": [
       "-111.86682731017271"
      ]
     },
     "execution_count": 19,
     "metadata": {},
     "output_type": "execute_result"
    }
   ],
   "source": [
    "\n",
    "in_ev[0]"
   ]
  },
  {
   "cell_type": "code",
   "execution_count": 10,
   "metadata": {},
   "outputs": [
    {
     "data": {
      "text/plain": [
       "5.6960019009925974e-11"
      ]
     },
     "execution_count": 10,
     "metadata": {},
     "output_type": "execute_result"
    }
   ],
   "source": [
    "np.sum(np.abs(1-in_ev/out_ev)**2)"
   ]
  },
  {
   "cell_type": "code",
   "execution_count": 11,
   "metadata": {},
   "outputs": [
    {
     "data": {
      "text/plain": [
       "True"
      ]
     },
     "execution_count": 11,
     "metadata": {},
     "output_type": "execute_result"
    }
   ],
   "source": [
    "UT = np.array([outA[i,j] for i in range(n-2) for j in range(i+2, n)])\n",
    "np.allclose( 1+UT , 1, rtol=0.01)"
   ]
  },
  {
   "cell_type": "code",
   "execution_count": 13,
   "metadata": {},
   "outputs": [
    {
     "data": {
      "text/plain": [
       "array([-111.86682731,  -80.19007661,  -64.9540301 ,  -20.75114924,\n",
       "         -5.35824799,   20.7043155 ,   46.48334569,   93.8199835 ,\n",
       "        157.55283056,  520.55985601])"
      ]
     },
     "execution_count": 13,
     "metadata": {},
     "output_type": "execute_result"
    }
   ],
   "source": [
    "in_ev"
   ]
  },
  {
   "cell_type": "code",
   "execution_count": 14,
   "metadata": {},
   "outputs": [
    {
     "data": {
      "text/plain": [
       "7"
      ]
     },
     "execution_count": 14,
     "metadata": {},
     "output_type": "execute_result"
    }
   ],
   "source": [
    "np.sum(in_ev < 90)"
   ]
  },
  {
   "cell_type": "code",
   "execution_count": 6,
   "metadata": {},
   "outputs": [
    {
     "data": {
      "text/html": [
       "<div>\n",
       "<style scoped>\n",
       "    .dataframe tbody tr th:only-of-type {\n",
       "        vertical-align: middle;\n",
       "    }\n",
       "\n",
       "    .dataframe tbody tr th {\n",
       "        vertical-align: top;\n",
       "    }\n",
       "\n",
       "    .dataframe thead th {\n",
       "        text-align: right;\n",
       "    }\n",
       "</style>\n",
       "<table border=\"1\" class=\"dataframe\">\n",
       "  <thead>\n",
       "    <tr style=\"text-align: right;\">\n",
       "      <th></th>\n",
       "      <th>N</th>\n",
       "      <th>p</th>\n",
       "      <th>time</th>\n",
       "    </tr>\n",
       "  </thead>\n",
       "  <tbody>\n",
       "    <tr>\n",
       "      <th>0</th>\n",
       "      <td>10</td>\n",
       "      <td>1</td>\n",
       "      <td>0.001891</td>\n",
       "    </tr>\n",
       "    <tr>\n",
       "      <th>1</th>\n",
       "      <td>10</td>\n",
       "      <td>2</td>\n",
       "      <td>0.001527</td>\n",
       "    </tr>\n",
       "    <tr>\n",
       "      <th>2</th>\n",
       "      <td>10</td>\n",
       "      <td>3</td>\n",
       "      <td>0.001557</td>\n",
       "    </tr>\n",
       "    <tr>\n",
       "      <th>3</th>\n",
       "      <td>10</td>\n",
       "      <td>4</td>\n",
       "      <td>0.001613</td>\n",
       "    </tr>\n",
       "    <tr>\n",
       "      <th>4</th>\n",
       "      <td>10</td>\n",
       "      <td>5</td>\n",
       "      <td>0.002106</td>\n",
       "    </tr>\n",
       "    <tr>\n",
       "      <th>...</th>\n",
       "      <td>...</td>\n",
       "      <td>...</td>\n",
       "      <td>...</td>\n",
       "    </tr>\n",
       "    <tr>\n",
       "      <th>65</th>\n",
       "      <td>100</td>\n",
       "      <td>3</td>\n",
       "      <td>69.768115</td>\n",
       "    </tr>\n",
       "    <tr>\n",
       "      <th>66</th>\n",
       "      <td>100</td>\n",
       "      <td>4</td>\n",
       "      <td>53.718553</td>\n",
       "    </tr>\n",
       "    <tr>\n",
       "      <th>67</th>\n",
       "      <td>100</td>\n",
       "      <td>5</td>\n",
       "      <td>44.961242</td>\n",
       "    </tr>\n",
       "    <tr>\n",
       "      <th>68</th>\n",
       "      <td>100</td>\n",
       "      <td>10</td>\n",
       "      <td>23.937345</td>\n",
       "    </tr>\n",
       "    <tr>\n",
       "      <th>69</th>\n",
       "      <td>100</td>\n",
       "      <td>20</td>\n",
       "      <td>15.418869</td>\n",
       "    </tr>\n",
       "  </tbody>\n",
       "</table>\n",
       "<p>70 rows × 3 columns</p>\n",
       "</div>"
      ],
      "text/plain": [
       "      N   p       time\n",
       "0    10   1   0.001891\n",
       "1    10   2   0.001527\n",
       "2    10   3   0.001557\n",
       "3    10   4   0.001613\n",
       "4    10   5   0.002106\n",
       "..  ...  ..        ...\n",
       "65  100   3  69.768115\n",
       "66  100   4  53.718553\n",
       "67  100   5  44.961242\n",
       "68  100  10  23.937345\n",
       "69  100  20  15.418869\n",
       "\n",
       "[70 rows x 3 columns]"
      ]
     },
     "execution_count": 6,
     "metadata": {},
     "output_type": "execute_result"
    }
   ],
   "source": [
    "res  = pd.read_csv(\"../Default/results.csv\", sep=\" \")\n",
    "res"
   ]
  },
  {
   "cell_type": "code",
   "execution_count": 7,
   "metadata": {},
   "outputs": [
    {
     "data": {
      "text/plain": [
       "array([ 10,  20,  30,  40,  50,  60,  70,  80,  90, 100])"
      ]
     },
     "execution_count": 7,
     "metadata": {},
     "output_type": "execute_result"
    }
   ],
   "source": [
    "res[\"N\"].unique()"
   ]
  },
  {
   "cell_type": "code",
   "execution_count": 36,
   "metadata": {},
   "outputs": [
    {
     "data": {
      "text/plain": [
       "[<matplotlib.lines.Line2D at 0x2b7708bc9be0>]"
      ]
     },
     "execution_count": 36,
     "metadata": {},
     "output_type": "execute_result"
    },
    {
     "data": {
      "image/png": "[encoded data removed]",
      "text/plain": [
       "<Figure size 432x288 with 1 Axes>"
      ]
     },
     "metadata": {
      "needs_background": "light"
     },
     "output_type": "display_data"
    }
   ],
   "source": [
    "df1 = res.query(\"p==1\")\n",
    "Nlist = df1[\"N\"].unique()\n",
    "plt.plot(Nlist, df1[\"time\"])\n",
    "plt.plot(Nlist, 200*(Nlist/100)**5, \"*\")\n",
    "# plt.yscale(\"log\")\n",
    "# plt.xscale(\"log\")"
   ]
  },
  {
   "cell_type": "code",
   "execution_count": 43,
   "metadata": {},
   "outputs": [],
   "source": [
    "def getStat(res, N):\n",
    "    df = res.query(\"N==\"+str(N))\n",
    "    time = df[\"time\"]\n",
    "    serial = float(df.query(\"p==1\")[\"time\"])\n",
    "    speedup = serial/df[\"time\"]\n",
    "    eff = speedup/df[\"p\"]\n",
    "    KF  = (1/speedup - 1/df[\"p\"])/(1-1/df[\"p\"])\n",
    "    return df[\"p\"], time, speedup, eff, KF"
   ]
  },
  {
   "cell_type": "code",
   "execution_count": 44,
   "metadata": {},
   "outputs": [
    {
     "data": {
      "text/plain": [
       "[<matplotlib.lines.Line2D at 0x2b77086c11d0>]"
      ]
     },
     "execution_count": 44,
     "metadata": {},
     "output_type": "execute_result"
    },
    {
     "data": {
      "image/png": "[encoded data removed]",
      "text/plain": [
       "<Figure size 432x288 with 1 Axes>"
      ]
     },
     "metadata": {
      "needs_background": "light"
     },
     "output_type": "display_data"
    }
   ],
   "source": [
    "p, time, speedup, eff, KF  = getStat(res, N=50)\n",
    "plt.plot(p, time)"
   ]
  }
 ],
 "metadata": {
  "kernelspec": {
   "display_name": "Python 3.6.8 ('env')",
   "language": "python",
   "name": "python3"
  },
  "language_info": {
   "codemirror_mode": {
    "name": "ipython",
    "version": 3
   },
   "file_extension": ".py",
   "mimetype": "text/x-python",
   "name": "python",
   "nbconvert_exporter": "python",
   "pygments_lexer": "ipython3",
   "version": "3.6.8"
  },
  "orig_nbformat": 4,
  "vscode": {
   "interpreter": {
    "hash": "a4d5f097349d326f04b0c2ff0e516059719620a22662a232cbe6e86a824ba70a"
   }
  }
 },
 "nbformat": 4,
 "nbformat_minor": 2
}
