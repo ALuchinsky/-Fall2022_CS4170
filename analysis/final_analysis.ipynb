{
 "cells": [
  {
   "cell_type": "code",
   "execution_count": 24,
   "metadata": {},
   "outputs": [],
   "source": [
    "import numpy as np\n",
    "import os\n",
    "import pandas as pd\n",
    "import matplotlib.pyplot as plt\n",
    "import imageio\n",
    "from plotnine import ggplot, aes, geom_raster, geom_tile, geom_point, geom_line, theme, labs, element_blank, ggsave"
   ]
  },
  {
   "cell_type": "code",
   "execution_count": 2,
   "metadata": {},
   "outputs": [
    {
     "data": {
      "text/plain": [
       "'/users/PCS0268/luchinsky/CS4170_FA2022_Final_Luchinsky/analysis'"
      ]
     },
     "execution_count": 2,
     "metadata": {},
     "output_type": "execute_result"
    }
   ],
   "source": [
    "os.getcwd()"
   ]
  },
  {
   "cell_type": "markdown",
   "metadata": {},
   "source": [
    "## Debug Compare"
   ]
  },
  {
   "cell_type": "code",
   "execution_count": 3,
   "metadata": {},
   "outputs": [
    {
     "name": "stdout",
     "output_type": "stream",
     "text": [
      "n= 50\n"
     ]
    }
   ],
   "source": [
    "#loading initial and 3diag matrices\n",
    "inA = np.loadtxt(\"../Default/in_hA.txt\")\n",
    "outA = np.loadtxt(\"../Default/out_hA.txt\")\n",
    "n = outA.shape[0]\n",
    "print(\"n=\", n)"
   ]
  },
  {
   "cell_type": "code",
   "execution_count": 4,
   "metadata": {},
   "outputs": [
    {
     "name": "stdout",
     "output_type": "stream",
     "text": [
      "in_ev/out_ev = \t\t [1.00000006 0.99999966 0.99999861 1.00000041 0.99999897 1.00000039\n",
      " 1.00000092 0.99999804 1.00000022 0.99999993 0.99999887 0.9999982\n",
      " 1.00000304 0.99999883 0.99999903 1.00000052 1.00000188 0.99999865\n",
      " 1.00000106 0.99999881 0.99999906 0.99999686 0.9999999  1.00000295\n",
      " 0.99998586 1.00001384 1.0000131  1.00000225 0.99999899 1.00000158\n",
      " 0.99999969 0.99999958 1.00000117 1.00000183 1.00000011 0.99999828\n",
      " 1.00000022 1.00000037 1.00000176 1.00000003 1.00000134 1.00000059\n",
      " 1.00000049 1.00000001 0.99999998 1.00000028 0.99999997 1.00000015\n",
      " 1.00000009 1.00000097]\n",
      "\n",
      "in_ev/c_ev=\t\t [1.00000104 0.99999868 0.99999862 1.00000059 1.00000044 0.9999992\n",
      " 1.00000019 1.00000036 1.00000071 1.00000107 1.00000024 0.99999904\n",
      " 1.00000223 0.99999808 0.99999694 1.00000053 0.99999969 0.99999816\n",
      " 1.00000144 0.99999924 1.00000014 0.99999604 1.00000147 1.00001622\n",
      " 1.0000025  1.00006173 1.00001092 1.00000199 1.00000148 1.00000093\n",
      " 1.00000554 0.99999871 0.9999991  0.99999849 0.99999986 0.99999825\n",
      " 1.00000213 0.99999714 1.00000402 1.00000198 0.99999905 0.99999994\n",
      " 1.0000009  1.00000052 0.9999992  0.99999789 0.99999785 0.99999959\n",
      " 0.99999959 2.5522391 ]\n"
     ]
    }
   ],
   "source": [
    "\n",
    "# Eigenvalues\n",
    "in_ev = np.sort(np.linalg.eig(inA)[0])          # initial\n",
    "out_ev = np.sort(np.linalg.eig(outA)[0])        #  3diag\n",
    "# comparing eigenvalues\n",
    "c_ev = np.loadtxt(\"../Default/ev_out.txt\")[:,1]\n",
    "print(\"in_ev/out_ev = \\t\\t\", in_ev/out_ev)\n",
    "print()\n",
    "print(\"in_ev/c_ev=\\t\\t\", in_ev/c_ev)"
   ]
  },
  {
   "cell_type": "code",
   "execution_count": 5,
   "metadata": {},
   "outputs": [
    {
     "data": {
      "text/plain": [
       "<matplotlib.legend.Legend at 0x2ace9bd20630>"
      ]
     },
     "execution_count": 5,
     "metadata": {},
     "output_type": "execute_result"
    },
    {
     "data": {
      "image/png": "[encoded data removed]",
      "text/plain": [
       "<Figure size 432x288 with 1 Axes>"
      ]
     },
     "metadata": {
      "needs_background": "light"
     },
     "output_type": "display_data"
    }
   ],
   "source": [
    "plt.plot(in_ev, label = \"th\")\n",
    "plt.plot(c_ev, \"*\", label = \"C\")\n",
    "plt.legend()"
   ]
  },
  {
   "cell_type": "markdown",
   "metadata": {},
   "source": [
    "## Time Statistics"
   ]
  },
  {
   "cell_type": "code",
   "execution_count": 25,
   "metadata": {},
   "outputs": [
    {
     "data": {
      "text/html": [
       "<div>\n",
       "<style scoped>\n",
       "    .dataframe tbody tr th:only-of-type {\n",
       "        vertical-align: middle;\n",
       "    }\n",
       "\n",
       "    .dataframe tbody tr th {\n",
       "        vertical-align: top;\n",
       "    }\n",
       "\n",
       "    .dataframe thead th {\n",
       "        text-align: right;\n",
       "    }\n",
       "</style>\n",
       "<table border=\"1\" class=\"dataframe\">\n",
       "  <thead>\n",
       "    <tr style=\"text-align: right;\">\n",
       "      <th></th>\n",
       "      <th>N</th>\n",
       "      <th>p</th>\n",
       "      <th>tdTime</th>\n",
       "      <th>evTime</th>\n",
       "      <th>time</th>\n",
       "    </tr>\n",
       "  </thead>\n",
       "  <tbody>\n",
       "    <tr>\n",
       "      <th>0</th>\n",
       "      <td>10</td>\n",
       "      <td>1</td>\n",
       "      <td>0.002079</td>\n",
       "      <td>0.002397</td>\n",
       "      <td>0.004476</td>\n",
       "    </tr>\n",
       "    <tr>\n",
       "      <th>1</th>\n",
       "      <td>10</td>\n",
       "      <td>2</td>\n",
       "      <td>0.001275</td>\n",
       "      <td>0.001454</td>\n",
       "      <td>0.002729</td>\n",
       "    </tr>\n",
       "    <tr>\n",
       "      <th>2</th>\n",
       "      <td>10</td>\n",
       "      <td>3</td>\n",
       "      <td>0.002071</td>\n",
       "      <td>0.002393</td>\n",
       "      <td>0.004464</td>\n",
       "    </tr>\n",
       "    <tr>\n",
       "      <th>3</th>\n",
       "      <td>10</td>\n",
       "      <td>4</td>\n",
       "      <td>0.001729</td>\n",
       "      <td>0.001533</td>\n",
       "      <td>0.003262</td>\n",
       "    </tr>\n",
       "    <tr>\n",
       "      <th>4</th>\n",
       "      <td>10</td>\n",
       "      <td>5</td>\n",
       "      <td>0.002188</td>\n",
       "      <td>0.001255</td>\n",
       "      <td>0.003443</td>\n",
       "    </tr>\n",
       "    <tr>\n",
       "      <th>...</th>\n",
       "      <td>...</td>\n",
       "      <td>...</td>\n",
       "      <td>...</td>\n",
       "      <td>...</td>\n",
       "      <td>...</td>\n",
       "    </tr>\n",
       "    <tr>\n",
       "      <th>65</th>\n",
       "      <td>100</td>\n",
       "      <td>3</td>\n",
       "      <td>76.915924</td>\n",
       "      <td>0.111900</td>\n",
       "      <td>77.027824</td>\n",
       "    </tr>\n",
       "    <tr>\n",
       "      <th>66</th>\n",
       "      <td>100</td>\n",
       "      <td>4</td>\n",
       "      <td>54.550441</td>\n",
       "      <td>0.077464</td>\n",
       "      <td>54.627905</td>\n",
       "    </tr>\n",
       "    <tr>\n",
       "      <th>67</th>\n",
       "      <td>100</td>\n",
       "      <td>5</td>\n",
       "      <td>43.862931</td>\n",
       "      <td>0.068595</td>\n",
       "      <td>43.931526</td>\n",
       "    </tr>\n",
       "    <tr>\n",
       "      <th>68</th>\n",
       "      <td>100</td>\n",
       "      <td>10</td>\n",
       "      <td>25.347805</td>\n",
       "      <td>0.076581</td>\n",
       "      <td>25.424386</td>\n",
       "    </tr>\n",
       "    <tr>\n",
       "      <th>69</th>\n",
       "      <td>100</td>\n",
       "      <td>20</td>\n",
       "      <td>15.915894</td>\n",
       "      <td>0.041754</td>\n",
       "      <td>15.957648</td>\n",
       "    </tr>\n",
       "  </tbody>\n",
       "</table>\n",
       "<p>70 rows × 5 columns</p>\n",
       "</div>"
      ],
      "text/plain": [
       "      N   p     tdTime    evTime       time\n",
       "0    10   1   0.002079  0.002397   0.004476\n",
       "1    10   2   0.001275  0.001454   0.002729\n",
       "2    10   3   0.002071  0.002393   0.004464\n",
       "3    10   4   0.001729  0.001533   0.003262\n",
       "4    10   5   0.002188  0.001255   0.003443\n",
       "..  ...  ..        ...       ...        ...\n",
       "65  100   3  76.915924  0.111900  77.027824\n",
       "66  100   4  54.550441  0.077464  54.627905\n",
       "67  100   5  43.862931  0.068595  43.931526\n",
       "68  100  10  25.347805  0.076581  25.424386\n",
       "69  100  20  15.915894  0.041754  15.957648\n",
       "\n",
       "[70 rows x 5 columns]"
      ]
     },
     "execution_count": 25,
     "metadata": {},
     "output_type": "execute_result"
    }
   ],
   "source": [
    "res  = pd.read_csv(\"../Default/results.csv\", sep=\" \")\n",
    "res[\"time\"] = res[\"tdTime\"] + res[\"evTime\"]\n",
    "res"
   ]
  },
  {
   "cell_type": "code",
   "execution_count": 62,
   "metadata": {},
   "outputs": [
    {
     "data": {
      "image/png": "[encoded data removed]",
      "text/plain": [
       "<Figure size 432x288 with 1 Axes>"
      ]
     },
     "metadata": {
      "needs_background": "light"
     },
     "output_type": "display_data"
    }
   ],
   "source": [
    "df1 = res.query(\"p==1\")\n",
    "Nlist = df1[\"N\"].unique()\n",
    "plt.plot(Nlist, df1[\"tdTime\"], \"-r\", label=\"diag\")\n",
    "plt.plot(Nlist, 200*(Nlist/100)**5, \"r*\")\n",
    "\n",
    "plt.plot(Nlist, 0.5*10**3*df1[\"evTime\"], label = r\"$5\\times 10^{2}$ (EV calc)\")\n",
    "plt.plot(Nlist, 120*(Nlist/100)**2, \"b*\")\n",
    "\n",
    "# plt.text(40, 100, r'$t\\sim N^5$')\n",
    "plt.xlabel(\"N\")\n",
    "plt.ylabel(\"time\")\n",
    "plt.legend()\n",
    "plt.show()"
   ]
  },
  {
   "cell_type": "code",
   "execution_count": 75,
   "metadata": {},
   "outputs": [],
   "source": [
    "def getStat(res, N, time_name=\"tdTime\"):\n",
    "    df = res.query(\"N==\"+str(N))\n",
    "    time = df[time_name]\n",
    "    serial = float(df.query(\"p==1\")[time_name])\n",
    "    speedup = serial/df[time_name]\n",
    "    eff = speedup/df[\"p\"]\n",
    "    KF  = (1/speedup - 1/df[\"p\"])/(1-1/df[\"p\"])\n",
    "    return df[\"p\"], time, speedup, eff, KF"
   ]
  },
  {
   "cell_type": "markdown",
   "metadata": {},
   "source": [
    "## Speedup, Efficiency, etc"
   ]
  },
  {
   "cell_type": "code",
   "execution_count": 81,
   "metadata": {},
   "outputs": [],
   "source": [
    "p, timeTD, speedupTD, effTD, KFTD  = getStat(res, N=50, time_name=\"tdTime\")\n",
    "_, timeEV, speedupEV, effEV, KFEV  = getStat(res, N=50, time_name=\"evTime\")"
   ]
  },
  {
   "cell_type": "code",
   "execution_count": 92,
   "metadata": {},
   "outputs": [
    {
     "data": {
      "image/png": "[encoded data removed]",
      "text/plain": [
       "<Figure size 432x288 with 1 Axes>"
      ]
     },
     "metadata": {
      "needs_background": "light"
     },
     "output_type": "display_data"
    }
   ],
   "source": [
    "# Time vs p\n",
    "plt.plot(p, timeTD, label = \"diag\")\n",
    "plt.plot(p, 1e2*timeEV, label = \"100*(EV calc)\")\n",
    "plt.xlabel(\"p\")\n",
    "plt.ylabel(\"time\")\n",
    "plt.legend()\n",
    "plt.show()"
   ]
  },
  {
   "cell_type": "code",
   "execution_count": 95,
   "metadata": {},
   "outputs": [
    {
     "data": {
      "image/png": "[encoded data removed]",
      "text/plain": [
       "<Figure size 432x288 with 1 Axes>"
      ]
     },
     "metadata": {
      "needs_background": "light"
     },
     "output_type": "display_data"
    }
   ],
   "source": [
    "# speedup vs p\n",
    "plt.plot(p, speedupTD, label = \"diag\")\n",
    "plt.plot(p, speedupEV, label = \"EV calc\")\n",
    "plt.plot([0,20], [0,20], \"--\")\n",
    "plt.xlabel(\"p\")\n",
    "plt.ylabel(\"speedup\")\n",
    "plt.legend()\n",
    "plt.show()"
   ]
  },
  {
   "cell_type": "code",
   "execution_count": 97,
   "metadata": {},
   "outputs": [
    {
     "data": {
      "image/png": "[encoded data removed]",
      "text/plain": [
       "<Figure size 432x288 with 1 Axes>"
      ]
     },
     "metadata": {
      "needs_background": "light"
     },
     "output_type": "display_data"
    }
   ],
   "source": [
    "# efficiency vs p\n",
    "plt.plot(p, effTD, label = \"diag\")\n",
    "plt.plot(p, effEV, label = \"EV calc\")\n",
    "plt.xlabel(\"p\")\n",
    "plt.ylabel(\"efficiency\")\n",
    "plt.legend()\n",
    "plt.show()"
   ]
  },
  {
   "cell_type": "code",
   "execution_count": 98,
   "metadata": {},
   "outputs": [
    {
     "data": {
      "image/png": "[encoded data removed]",
      "text/plain": [
       "<Figure size 432x288 with 1 Axes>"
      ]
     },
     "metadata": {
      "needs_background": "light"
     },
     "output_type": "display_data"
    }
   ],
   "source": [
    "# KF vs p\n",
    "plt.plot(p, KFTD, label = \"diag\")\n",
    "plt.plot(p, KFEV, label = \"EV calc\")\n",
    "plt.xlabel(\"p\")\n",
    "plt.ylabel(\"KF\")\n",
    "plt.legend()\n",
    "plt.show()"
   ]
  },
  {
   "cell_type": "markdown",
   "metadata": {},
   "source": [
    "## JM Progress Figures and Movies"
   ]
  },
  {
   "cell_type": "code",
   "execution_count": 7,
   "metadata": {},
   "outputs": [],
   "source": [
    "# data_dir = '../results/sjResults/'\n",
    "# file_names = os.listdir(data_dir + \"/matrices/\")\n",
    "# nums = np.sort([int(s.split(\".\")[0]) for s in file_names])\n",
    "# def plot_matrix(AA, n):\n",
    "#     dfAA = pd.DataFrame(AA.reshape(AA.shape[0]*AA.shape[1]), columns=[\"value\"])\n",
    "#     dfAA[\"x\"] = np.repeat(np.linspace(1,AA.shape[0]), AA.shape[0])\n",
    "#     dfAA[\"y\"] = np.tile(-np.linspace(1,AA.shape[0]), AA.shape[0])\n",
    "#     p = (ggplot(dfAA, aes(x=\"x\", y=\"y\", fill=\"value\")) + geom_tile() + \n",
    "#         theme(legend_position=\"none\", axis_text_x=element_blank(), axis_text_y=element_blank()) + \n",
    "#         labs(x=\"\", y=\"\", title=\"Itteration \" + str(nums[n]))\n",
    "#     )\n",
    "#     return p\n"
   ]
  },
  {
   "cell_type": "code",
   "execution_count": 227,
   "metadata": {},
   "outputs": [
    {
     "data": {
      "image/png": "[encoded data removed]",
      "text/plain": [
       "<Figure size 432x288 with 1 Axes>"
      ]
     },
     "metadata": {
      "needs_background": "light"
     },
     "output_type": "display_data"
    }
   ],
   "source": [
    "# build GIF\n",
    "with imageio.get_writer(\"../results/sjResults/gifs_and_images/M.gif\", mode = \"I\", fps=3, loop=1) as writer:\n",
    "    for n in nums:\n",
    "        AA = np.loadtxt(\"../results/sjResults/matrices/\"+str(n)+\".txt\")\n",
    "        plt.imshow(AA)\n",
    "        plt.title(\"itteration \" + str(n))\n",
    "        plt.savefig(\"./A.jpeg\")\n",
    "        image = imageio.imread(\"./A.jpeg\")\n",
    "        writer.append_data(image)\n",
    "        "
   ]
  },
  {
   "cell_type": "code",
   "execution_count": 194,
   "metadata": {},
   "outputs": [],
   "source": [
    "from plotnine import ggplot, aes, geom_point, geom_line, ggsave, labs\n",
    "import warnings\n",
    "warnings.filterwarnings('ignore')"
   ]
  },
  {
   "cell_type": "code",
   "execution_count": 196,
   "metadata": {},
   "outputs": [],
   "source": [
    "import tqdm"
   ]
  },
  {
   "cell_type": "code",
   "execution_count": 228,
   "metadata": {},
   "outputs": [
    {
     "name": "stderr",
     "output_type": "stream",
     "text": [
      "100%|██████████| 81/81 [00:32<00:00,  2.48it/s]\n"
     ]
    }
   ],
   "source": [
    "eigs = np.sort(np.linalg.eig(AA)[0])\n",
    "with imageio.get_writer(\"../results/sjResults/gifs_and_images/EV.gif\", fps=3, loop=1) as writer:\n",
    "    for n in tqdm.tqdm(nums):\n",
    "        AA = np.loadtxt(\"../results/sjResults/matrices/\"+str(n)+\".txt\")\n",
    "        df = pd.DataFrame( np.sort(np.diag(AA)), columns=[\"value\"])\n",
    "        df[\"i\"] = np.linspace(1, AA.shape[0])\n",
    "        df[\"true\"] = eigs\n",
    "        p = (\n",
    "            ggplot(df,aes(x=\"i\")) + geom_point(aes(y=\"value\")) + geom_line(aes(y=\"true\"), color=\"red\") +\n",
    "            labs(x=\"\", y=\"\", title=\"itteration \" + str(n))\n",
    "        )\n",
    "        p.save(\"./B.jpeg\")\n",
    "        image = imageio.imread(\"./B.jpeg\")\n",
    "        writer.append_data(image)\n",
    "\n",
    "#df[\"ev\"] = np.sort(np.diag[AA])"
   ]
  },
  {
   "cell_type": "markdown",
   "metadata": {},
   "source": [
    "## HouseHold GIFS"
   ]
  },
  {
   "cell_type": "code",
   "execution_count": 207,
   "metadata": {},
   "outputs": [
    {
     "data": {
      "text/plain": [
       "array([ 0,  1,  2,  3,  4,  5,  6,  7,  8,  9, 10, 11, 12, 13, 14, 15, 16,\n",
       "       17, 18, 19, 20, 21, 22, 23, 24, 25, 26, 27, 28, 29, 30, 31, 32, 33,\n",
       "       34, 35, 36, 37, 38, 39, 40, 41, 42, 43, 44, 45, 46, 47])"
      ]
     },
     "execution_count": 207,
     "metadata": {},
     "output_type": "execute_result"
    }
   ],
   "source": [
    "file_names = os.listdir(\"../results/hhResults/matrices/\")\n",
    "nums = np.sort([int(s.split(\".\")[0]) for s in file_names])\n",
    "nums"
   ]
  },
  {
   "cell_type": "code",
   "execution_count": 220,
   "metadata": {},
   "outputs": [
    {
     "data": {
      "text/plain": [
       "<matplotlib.image.AxesImage at 0x2b81257b3e48>"
      ]
     },
     "execution_count": 220,
     "metadata": {},
     "output_type": "execute_result"
    },
    {
     "data": {
      "image/png": "[encoded data removed]",
      "text/plain": [
       "<Figure size 432x288 with 1 Axes>"
      ]
     },
     "metadata": {
      "needs_background": "light"
     },
     "output_type": "display_data"
    }
   ],
   "source": [
    "AA = np.loadtxt(\"../results/hhResults/matrices/\"+str(47)+\".txt\")\n",
    "# AA = (AA-np.min(AA))/(np.max(AA)-np.min(AA))\n",
    "plt.imshow(AA, cmap=\"hot\")"
   ]
  },
  {
   "cell_type": "code",
   "execution_count": 225,
   "metadata": {},
   "outputs": [
    {
     "data": {
      "image/png": "[encoded data removed]",
      "text/plain": [
       "<Figure size 432x288 with 1 Axes>"
      ]
     },
     "metadata": {
      "needs_background": "light"
     },
     "output_type": "display_data"
    }
   ],
   "source": [
    "# build GIF\n",
    "with imageio.get_writer(\"../results/hhResults/gifs_and_images/M.gif\", mode = \"I\", fps=3, loop=1) as writer:\n",
    "    for n in nums:\n",
    "        AA = np.loadtxt(\"../results/hhResults/matrices/\"+str(n)+\".txt\")\n",
    "        plt.imshow(AA)\n",
    "        plt.title(\"itteration \" + str(n))\n",
    "        plt.savefig(\"./A.jpeg\")\n",
    "        image = imageio.imread(\"./A.jpeg\")\n",
    "        writer.append_data(image)\n",
    "        "
   ]
  },
  {
   "cell_type": "code",
   "execution_count": 224,
   "metadata": {},
   "outputs": [
    {
     "data": {
      "image/png": "[encoded data removed]",
      "text/plain": [
       "<Figure size 432x288 with 1 Axes>"
      ]
     },
     "metadata": {
      "needs_background": "light"
     },
     "output_type": "display_data"
    }
   ],
   "source": [
    "# build GIF\n",
    "images = []\n",
    "#with imageio.get_writer(\"../results/hhResults/gifs_and_images/M.gif\", mode = \"I\") as writer:\n",
    "for n in nums:\n",
    "    AA = np.loadtxt(\"../results/hhResults/matrices/\"+str(n)+\".txt\")\n",
    "    plt.imshow(AA)\n",
    "    plt.title(\"itteration \" + str(n))\n",
    "    plt.savefig(\"./A.jpeg\")\n",
    "    images.append(imageio.imread(\"./A.jpeg\"))\n",
    "imageio.mimsave(\"../results/hhResults/gifs_and_images/M.gif\", images, fps = 3, loop = 1)\n",
    "#writer.append_data(image)\n",
    "        "
   ]
  },
  {
   "cell_type": "code",
   "execution_count": 230,
   "metadata": {},
   "outputs": [],
   "source": [
    "from plotnine import geom_tile"
   ]
  },
  {
   "cell_type": "code",
   "execution_count": 243,
   "metadata": {},
   "outputs": [
    {
     "ename": "ValueError",
     "evalue": "stubname can't be identical to a column name",
     "output_type": "error",
     "traceback": [
      "\u001b[0;31m---------------------------------------------------------------------------\u001b[0m",
      "\u001b[0;31mValueError\u001b[0m                                Traceback (most recent call last)",
      "\u001b[0;32m<ipython-input-243-a4161eb03ea3>\u001b[0m in \u001b[0;36m<module>\u001b[0;34m\u001b[0m\n\u001b[1;32m      1\u001b[0m \u001b[0mdd\u001b[0m \u001b[0;34m=\u001b[0m \u001b[0mpd\u001b[0m\u001b[0;34m.\u001b[0m\u001b[0mDataFrame\u001b[0m\u001b[0;34m(\u001b[0m\u001b[0mAA\u001b[0m\u001b[0;34m)\u001b[0m\u001b[0;34m\u001b[0m\u001b[0;34m\u001b[0m\u001b[0m\n\u001b[0;32m----> 2\u001b[0;31m \u001b[0mpd\u001b[0m\u001b[0;34m.\u001b[0m\u001b[0mwide_to_long\u001b[0m\u001b[0;34m(\u001b[0m\u001b[0mdd\u001b[0m\u001b[0;34m,\u001b[0m \u001b[0mstubnames\u001b[0m\u001b[0;34m=\u001b[0m\u001b[0mdd\u001b[0m\u001b[0;34m.\u001b[0m\u001b[0mcolumns\u001b[0m\u001b[0;34m,\u001b[0m \u001b[0mi\u001b[0m\u001b[0;34m=\u001b[0m\u001b[0;34m\"x\"\u001b[0m\u001b[0;34m,\u001b[0m \u001b[0mj\u001b[0m\u001b[0;34m=\u001b[0m\u001b[0;34m\"value\"\u001b[0m\u001b[0;34m)\u001b[0m\u001b[0;34m\u001b[0m\u001b[0;34m\u001b[0m\u001b[0m\n\u001b[0m",
      "\u001b[0;32m~/env/lib64/python3.6/site-packages/pandas/core/reshape/melt.py\u001b[0m in \u001b[0;36mwide_to_long\u001b[0;34m(df, stubnames, i, j, sep, suffix)\u001b[0m\n\u001b[1;32m    465\u001b[0m \u001b[0;34m\u001b[0m\u001b[0m\n\u001b[1;32m    466\u001b[0m     \u001b[0;32mif\u001b[0m \u001b[0many\u001b[0m\u001b[0;34m(\u001b[0m\u001b[0mcol\u001b[0m \u001b[0;32min\u001b[0m \u001b[0mstubnames\u001b[0m \u001b[0;32mfor\u001b[0m \u001b[0mcol\u001b[0m \u001b[0;32min\u001b[0m \u001b[0mdf\u001b[0m\u001b[0;34m.\u001b[0m\u001b[0mcolumns\u001b[0m\u001b[0;34m)\u001b[0m\u001b[0;34m:\u001b[0m\u001b[0;34m\u001b[0m\u001b[0;34m\u001b[0m\u001b[0m\n\u001b[0;32m--> 467\u001b[0;31m         \u001b[0;32mraise\u001b[0m \u001b[0mValueError\u001b[0m\u001b[0;34m(\u001b[0m\u001b[0;34m\"stubname can't be identical to a column name\"\u001b[0m\u001b[0;34m)\u001b[0m\u001b[0;34m\u001b[0m\u001b[0;34m\u001b[0m\u001b[0m\n\u001b[0m\u001b[1;32m    468\u001b[0m \u001b[0;34m\u001b[0m\u001b[0m\n\u001b[1;32m    469\u001b[0m     \u001b[0;32mif\u001b[0m \u001b[0;32mnot\u001b[0m \u001b[0mis_list_like\u001b[0m\u001b[0;34m(\u001b[0m\u001b[0mi\u001b[0m\u001b[0;34m)\u001b[0m\u001b[0;34m:\u001b[0m\u001b[0;34m\u001b[0m\u001b[0;34m\u001b[0m\u001b[0m\n",
      "\u001b[0;31mValueError\u001b[0m: stubname can't be identical to a column name"
     ]
    }
   ],
   "source": [
    "dd = pd.DataFrame(AA)\n",
    "pd.wide_to_long(dd, stubnames=dd.columns, i=\"x\", j=\"value\")"
   ]
  },
  {
   "cell_type": "code",
   "execution_count": 221,
   "metadata": {},
   "outputs": [
    {
     "name": "stdout",
     "output_type": "stream",
     "text": [
      "\u001b[0;31mSignature:\u001b[0m \u001b[0mimageio\u001b[0m\u001b[0;34m.\u001b[0m\u001b[0mget_writer\u001b[0m\u001b[0;34m(\u001b[0m\u001b[0muri\u001b[0m\u001b[0;34m,\u001b[0m \u001b[0mformat\u001b[0m\u001b[0;34m=\u001b[0m\u001b[0;32mNone\u001b[0m\u001b[0;34m,\u001b[0m \u001b[0mmode\u001b[0m\u001b[0;34m=\u001b[0m\u001b[0;34m'?'\u001b[0m\u001b[0;34m,\u001b[0m \u001b[0;34m**\u001b[0m\u001b[0mkwargs\u001b[0m\u001b[0;34m)\u001b[0m\u001b[0;34m\u001b[0m\u001b[0;34m\u001b[0m\u001b[0m\n",
      "\u001b[0;31mDocstring:\u001b[0m\n",
      "get_writer(uri, format=None, mode='?', **kwargs)\n",
      "\n",
      "Returns a :class:`.Writer` object which can be used to write data\n",
      "and meta data to the specified file.\n",
      "\n",
      "Parameters\n",
      "----------\n",
      "uri : {str, pathlib.Path, file}\n",
      "    The resource to write the image to, e.g. a filename, pathlib.Path\n",
      "    or file object, see the docs for more info.\n",
      "format : str\n",
      "    The format to use to write the file. By default imageio selects\n",
      "    the appropriate for you based on the filename.\n",
      "mode : {'i', 'I', 'v', 'V', '?'}\n",
      "    Used to give the writer a hint on what the user expects (default '?'):\n",
      "    \"i\" for an image, \"I\" for multiple images, \"v\" for a volume,\n",
      "    \"V\" for multiple volumes, \"?\" for don't care.\n",
      "kwargs : ...\n",
      "    Further keyword arguments are passed to the writer. See :func:`.help`\n",
      "    to see what arguments are available for a particular format.\n",
      "\u001b[0;31mFile:\u001b[0m      ~/env/lib64/python3.6/site-packages/imageio/core/functions.py\n",
      "\u001b[0;31mType:\u001b[0m      function\n"
     ]
    }
   ],
   "source": [
    "?imageio.get_writer"
   ]
  },
  {
   "cell_type": "markdown",
   "metadata": {},
   "source": []
  }
 ],
 "metadata": {
  "kernelspec": {
   "display_name": "Python 3.6.8 ('env')",
   "language": "python",
   "name": "python3"
  },
  "language_info": {
   "codemirror_mode": {
    "name": "ipython",
    "version": 3
   },
   "file_extension": ".py",
   "mimetype": "text/x-python",
   "name": "python",
   "nbconvert_exporter": "python",
   "pygments_lexer": "ipython3",
   "version": "3.6.8"
  },
  "orig_nbformat": 4,
  "vscode": {
   "interpreter": {
    "hash": "a4d5f097349d326f04b0c2ff0e516059719620a22662a232cbe6e86a824ba70a"
   }
  }
 },
 "nbformat": 4,
 "nbformat_minor": 2
}
