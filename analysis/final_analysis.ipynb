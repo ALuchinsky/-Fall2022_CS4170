{
 "cells": [
  {
   "cell_type": "code",
   "execution_count": 3,
   "metadata": {},
   "outputs": [],
   "source": [
    "import numpy as np\n",
    "import os\n",
    "import pandas as pd\n",
    "import matplotlib.pyplot as plt"
   ]
  },
  {
   "cell_type": "code",
   "execution_count": 2,
   "metadata": {},
   "outputs": [
    {
     "data": {
      "text/plain": [
       "'/users/PCS0268/luchinsky/CS4170_FA2022_Final_Luchinsky/analysis'"
      ]
     },
     "execution_count": 2,
     "metadata": {},
     "output_type": "execute_result"
    }
   ],
   "source": [
    "os.getcwd()"
   ]
  },
  {
   "cell_type": "markdown",
   "metadata": {},
   "source": [
    "## Debug Compare"
   ]
  },
  {
   "cell_type": "code",
   "execution_count": 2,
   "metadata": {},
   "outputs": [
    {
     "name": "stdout",
     "output_type": "stream",
     "text": [
      "n= 30\n"
     ]
    }
   ],
   "source": [
    "#loading initial and 3diag matrices\n",
    "inA = np.loadtxt(\"../Default/in_hA.txt\")\n",
    "outA = np.loadtxt(\"../Default/out_hA.txt\")\n",
    "n = outA.shape[0]\n",
    "print(\"n=\", n)"
   ]
  },
  {
   "cell_type": "code",
   "execution_count": 8,
   "metadata": {},
   "outputs": [
    {
     "name": "stdout",
     "output_type": "stream",
     "text": [
      "in_ev/out_ev = \t\t [0.99999883 1.00000165 0.99999778 1.00000035 0.99999893 1.00000063\n",
      " 1.00000009 0.99999929 1.00000009 0.99999765 1.00000041 1.0000001\n",
      " 1.00000145 0.99999708 1.00000549 0.9999984  0.99999257 1.00000321\n",
      " 1.00000195 1.00000137 1.00000148 1.00000084 1.0000012  1.00000034\n",
      " 0.99999978 1.0000022  1.00000117 1.00000062 0.99999893 1.00000215]\n",
      "\n",
      "in_ev/c_ev=\t\t [0.99999856 0.99999886 1.00000071 1.00000106 0.9999992  1.00000152\n",
      " 0.99999836 0.99999778 1.00000287 0.99999906 1.00000095 1.00000124\n",
      " 1.00000181 0.99999565 1.0000052  0.99999411 0.99999258 0.99999929\n",
      " 1.0000002  1.00000003 1.00000015 1.00000116 1.00000216 1.00000084\n",
      " 0.99999762 1.0000003  1.0000013  1.0000011  0.99999963 1.62918726]\n"
     ]
    }
   ],
   "source": [
    "\n",
    "# Eigenvalues\n",
    "in_ev = np.sort(np.linalg.eig(inA)[0])          # initial\n",
    "out_ev = np.sort(np.linalg.eig(outA)[0])        #  3diag\n",
    "# comparing eigenvalues\n",
    "c_ev = np.loadtxt(\"../Default/ev_out.txt\")[:,1]\n",
    "print(\"in_ev/out_ev = \\t\\t\", in_ev/out_ev)\n",
    "print()\n",
    "print(\"in_ev/c_ev=\\t\\t\", in_ev/c_ev)"
   ]
  },
  {
   "cell_type": "code",
   "execution_count": 6,
   "metadata": {},
   "outputs": [
    {
     "data": {
      "text/plain": [
       "<matplotlib.legend.Legend at 0x2ada9c29bf28>"
      ]
     },
     "execution_count": 6,
     "metadata": {},
     "output_type": "execute_result"
    },
    {
     "data": {
      "image/png": "[encoded data removed]",
      "text/plain": [
       "<Figure size 432x288 with 1 Axes>"
      ]
     },
     "metadata": {
      "needs_background": "light"
     },
     "output_type": "display_data"
    }
   ],
   "source": [
    "plt.plot(in_ev, label = \"th\")\n",
    "plt.plot(c_ev, \"*\", label = \"C\")\n",
    "plt.legend()"
   ]
  },
  {
   "cell_type": "markdown",
   "metadata": {},
   "source": [
    "## Time Statistics"
   ]
  },
  {
   "cell_type": "code",
   "execution_count": 9,
   "metadata": {},
   "outputs": [
    {
     "data": {
      "text/html": [
       "<div>\n",
       "<style scoped>\n",
       "    .dataframe tbody tr th:only-of-type {\n",
       "        vertical-align: middle;\n",
       "    }\n",
       "\n",
       "    .dataframe tbody tr th {\n",
       "        vertical-align: top;\n",
       "    }\n",
       "\n",
       "    .dataframe thead th {\n",
       "        text-align: right;\n",
       "    }\n",
       "</style>\n",
       "<table border=\"1\" class=\"dataframe\">\n",
       "  <thead>\n",
       "    <tr style=\"text-align: right;\">\n",
       "      <th></th>\n",
       "      <th>N</th>\n",
       "      <th>p</th>\n",
       "      <th>tdTime</th>\n",
       "      <th>evTime</th>\n",
       "      <th>time</th>\n",
       "    </tr>\n",
       "  </thead>\n",
       "  <tbody>\n",
       "    <tr>\n",
       "      <th>0</th>\n",
       "      <td>10</td>\n",
       "      <td>1</td>\n",
       "      <td>0.002079</td>\n",
       "      <td>0.002397</td>\n",
       "      <td>0.004476</td>\n",
       "    </tr>\n",
       "    <tr>\n",
       "      <th>1</th>\n",
       "      <td>10</td>\n",
       "      <td>2</td>\n",
       "      <td>0.001275</td>\n",
       "      <td>0.001454</td>\n",
       "      <td>0.002729</td>\n",
       "    </tr>\n",
       "    <tr>\n",
       "      <th>2</th>\n",
       "      <td>10</td>\n",
       "      <td>3</td>\n",
       "      <td>0.002071</td>\n",
       "      <td>0.002393</td>\n",
       "      <td>0.004464</td>\n",
       "    </tr>\n",
       "    <tr>\n",
       "      <th>3</th>\n",
       "      <td>10</td>\n",
       "      <td>4</td>\n",
       "      <td>0.001729</td>\n",
       "      <td>0.001533</td>\n",
       "      <td>0.003262</td>\n",
       "    </tr>\n",
       "    <tr>\n",
       "      <th>4</th>\n",
       "      <td>10</td>\n",
       "      <td>5</td>\n",
       "      <td>0.002188</td>\n",
       "      <td>0.001255</td>\n",
       "      <td>0.003443</td>\n",
       "    </tr>\n",
       "    <tr>\n",
       "      <th>...</th>\n",
       "      <td>...</td>\n",
       "      <td>...</td>\n",
       "      <td>...</td>\n",
       "      <td>...</td>\n",
       "      <td>...</td>\n",
       "    </tr>\n",
       "    <tr>\n",
       "      <th>65</th>\n",
       "      <td>100</td>\n",
       "      <td>3</td>\n",
       "      <td>76.915924</td>\n",
       "      <td>0.111900</td>\n",
       "      <td>77.027824</td>\n",
       "    </tr>\n",
       "    <tr>\n",
       "      <th>66</th>\n",
       "      <td>100</td>\n",
       "      <td>4</td>\n",
       "      <td>54.550441</td>\n",
       "      <td>0.077464</td>\n",
       "      <td>54.627905</td>\n",
       "    </tr>\n",
       "    <tr>\n",
       "      <th>67</th>\n",
       "      <td>100</td>\n",
       "      <td>5</td>\n",
       "      <td>43.862931</td>\n",
       "      <td>0.068595</td>\n",
       "      <td>43.931526</td>\n",
       "    </tr>\n",
       "    <tr>\n",
       "      <th>68</th>\n",
       "      <td>100</td>\n",
       "      <td>10</td>\n",
       "      <td>25.347805</td>\n",
       "      <td>0.076581</td>\n",
       "      <td>25.424386</td>\n",
       "    </tr>\n",
       "    <tr>\n",
       "      <th>69</th>\n",
       "      <td>100</td>\n",
       "      <td>20</td>\n",
       "      <td>15.915894</td>\n",
       "      <td>0.041754</td>\n",
       "      <td>15.957648</td>\n",
       "    </tr>\n",
       "  </tbody>\n",
       "</table>\n",
       "<p>70 rows × 5 columns</p>\n",
       "</div>"
      ],
      "text/plain": [
       "      N   p     tdTime    evTime       time\n",
       "0    10   1   0.002079  0.002397   0.004476\n",
       "1    10   2   0.001275  0.001454   0.002729\n",
       "2    10   3   0.002071  0.002393   0.004464\n",
       "3    10   4   0.001729  0.001533   0.003262\n",
       "4    10   5   0.002188  0.001255   0.003443\n",
       "..  ...  ..        ...       ...        ...\n",
       "65  100   3  76.915924  0.111900  77.027824\n",
       "66  100   4  54.550441  0.077464  54.627905\n",
       "67  100   5  43.862931  0.068595  43.931526\n",
       "68  100  10  25.347805  0.076581  25.424386\n",
       "69  100  20  15.915894  0.041754  15.957648\n",
       "\n",
       "[70 rows x 5 columns]"
      ]
     },
     "execution_count": 9,
     "metadata": {},
     "output_type": "execute_result"
    }
   ],
   "source": [
    "res  = pd.read_csv(\"../Default/results.csv\", sep=\" \")\n",
    "res[\"time\"] = res[\"tdTime\"] + res[\"evTime\"]\n",
    "res"
   ]
  },
  {
   "cell_type": "code",
   "execution_count": 12,
   "metadata": {},
   "outputs": [
    {
     "data": {
      "text/plain": [
       "Text(0, 0.5, 't')"
      ]
     },
     "execution_count": 12,
     "metadata": {},
     "output_type": "execute_result"
    },
    {
     "data": {
      "image/png": "[encoded data removed]",
      "text/plain": [
       "<Figure size 432x288 with 1 Axes>"
      ]
     },
     "metadata": {
      "needs_background": "light"
     },
     "output_type": "display_data"
    }
   ],
   "source": [
    "df1 = res.query(\"p==1\")\n",
    "Nlist = df1[\"N\"].unique()\n",
    "plt.plot(Nlist, df1[\"time\"])\n",
    "plt.plot(Nlist, 200*(Nlist/100)**5, \"*\")\n",
    "plt.plot(Nlist, df1[\"tdTime\"], \"--\")\n",
    "plt.plot(Nlist, df1[\"evTime\"], \"--\")\n",
    "plt.text(40, 100, r'$t\\sim N^5$')\n",
    "plt.xlabel(\"N\")\n",
    "plt.ylabel(\"t\")\n",
    "# plt.yscale(\"log\")\n",
    "# plt.xscale(\"log\")"
   ]
  },
  {
   "cell_type": "code",
   "execution_count": 14,
   "metadata": {},
   "outputs": [],
   "source": [
    "def getStat(res, N):\n",
    "    df = res.query(\"N==\"+str(N))\n",
    "    time = df[\"time\"]\n",
    "    serial = float(df.query(\"p==1\")[\"time\"])\n",
    "    speedup = serial/df[\"time\"]\n",
    "    eff = speedup/df[\"p\"]\n",
    "    KF  = (1/speedup - 1/df[\"p\"])/(1-1/df[\"p\"])\n",
    "    return df[\"p\"], time, speedup, eff, KF"
   ]
  },
  {
   "cell_type": "code",
   "execution_count": 16,
   "metadata": {},
   "outputs": [
    {
     "data": {
      "text/plain": [
       "Text(0, 0.5, 'time')"
      ]
     },
     "execution_count": 16,
     "metadata": {},
     "output_type": "execute_result"
    },
    {
     "data": {
      "image/png": "[encoded data removed]",
      "text/plain": [
       "<Figure size 432x288 with 1 Axes>"
      ]
     },
     "metadata": {
      "needs_background": "light"
     },
     "output_type": "display_data"
    }
   ],
   "source": [
    "p, time, speedup, eff, KF  = getStat(res, N=50)\n",
    "plt.plot(p, time)\n",
    "plt.xlabel(\"p\")\n",
    "plt.ylabel(\"time\")"
   ]
  },
  {
   "cell_type": "code",
   "execution_count": 39,
   "metadata": {},
   "outputs": [
    {
     "data": {
      "text/plain": [
       "[<matplotlib.lines.Line2D at 0x2ada9cb9a748>]"
      ]
     },
     "execution_count": 39,
     "metadata": {},
     "output_type": "execute_result"
    },
    {
     "data": {
      "image/png": "[encoded data removed]",
      "text/plain": [
       "<Figure size 432x288 with 1 Axes>"
      ]
     },
     "metadata": {
      "needs_background": "light"
     },
     "output_type": "display_data"
    }
   ],
   "source": [
    "# p-dependence of the evTime\n",
    "dff = res.query(\"N==50\")\n",
    "serial = float(dff.query(\"p==1\")[\"evTime\"])\n",
    "pList = dff[\"p\"]\n",
    "speedup = serial/dff[\"evTime\"]\n",
    "plt.plot(pList, speedup)\n",
    "plt.plot([0,20], [0,20])"
   ]
  },
  {
   "cell_type": "code",
   "execution_count": 42,
   "metadata": {},
   "outputs": [
    {
     "data": {
      "text/plain": [
       "(0.0, 1.0)"
      ]
     },
     "execution_count": 42,
     "metadata": {},
     "output_type": "execute_result"
    },
    {
     "data": {
      "image/png": "[encoded data removed]",
      "text/plain": [
       "<Figure size 432x288 with 1 Axes>"
      ]
     },
     "metadata": {
      "needs_background": "light"
     },
     "output_type": "display_data"
    }
   ],
   "source": [
    "eff = speedup/pList\n",
    "plt.plot(pList, eff)\n",
    "plt.ylim(0,1)"
   ]
  },
  {
   "cell_type": "code",
   "execution_count": 44,
   "metadata": {},
   "outputs": [
    {
     "data": {
      "text/plain": [
       "(0.0, 1.0)"
      ]
     },
     "execution_count": 44,
     "metadata": {},
     "output_type": "execute_result"
    },
    {
     "data": {
      "image/png": "[encoded data removed]",
      "text/plain": [
       "<Figure size 432x288 with 1 Axes>"
      ]
     },
     "metadata": {
      "needs_background": "light"
     },
     "output_type": "display_data"
    }
   ],
   "source": [
    "KF = (1/speedup - 1/pList)/(1-1/pList)\n",
    "plt.plot(pList, KF)\n",
    "plt.ylim(0,1)"
   ]
  },
  {
   "cell_type": "markdown",
   "metadata": {},
   "source": [
    "## JM Progress Figures and Movies"
   ]
  },
  {
   "cell_type": "code",
   "execution_count": 115,
   "metadata": {},
   "outputs": [],
   "source": [
    "import imageio"
   ]
  },
  {
   "cell_type": "code",
   "execution_count": 99,
   "metadata": {},
   "outputs": [],
   "source": [
    "file_names = os.listdir(\"../results/sjResults/matrices/\")\n",
    "nums = np.sort([int(s.split(\".\")[0]) for s in file_names])"
   ]
  },
  {
   "cell_type": "code",
   "execution_count": 123,
   "metadata": {},
   "outputs": [
    {
     "data": {
      "image/png": "[encoded data removed]",
      "text/plain": [
       "<Figure size 432x288 with 1 Axes>"
      ]
     },
     "metadata": {
      "needs_background": "light"
     },
     "output_type": "display_data"
    }
   ],
   "source": [
    "# build GIF\n",
    "with imageio.get_writer(\"../results/sjResults/gifs_and_images/M.gif\", mode = \"I\") as writer:\n",
    "    for n in nums:\n",
    "        AA = np.loadtxt(\"../results/sjResults/matrices/\"+str(n)+\".txt\")\n",
    "        plt.imshow(AA)\n",
    "        plt.title(\"itteration \" + str(n))\n",
    "        plt.savefig(\"./A.jpeg\")\n",
    "        image = imageio.imread(\"./A.jpeg\")\n",
    "        writer.append_data(image)\n",
    "        "
   ]
  },
  {
   "cell_type": "code",
   "execution_count": 151,
   "metadata": {},
   "outputs": [
    {
     "data": {
      "image/png": "[encoded data removed]",
      "text/plain": [
       "<Figure size 432x288 with 1 Axes>"
      ]
     },
     "metadata": {
      "needs_background": "light"
     },
     "output_type": "display_data"
    }
   ],
   "source": [
    "n = nums[30]\n",
    "AA = np.loadtxt(\"../results/sjResults/matrices/\"+str(n)+\".txt\")\n",
    "plt.plot(eigs)\n",
    "plt.plot(np.sort(np.diag(AA)), \".\")\n",
    "plt.title(\"itteration \" + str(n))\n",
    "plt.savefig(\"./B.jpeg\")\n",
    "\n"
   ]
  },
  {
   "cell_type": "code",
   "execution_count": 164,
   "metadata": {},
   "outputs": [
    {
     "data": {
      "text/plain": [
       "array([ 1.,  2.,  3.,  4.,  5.,  6.,  7.,  8.,  9., 10., 11., 12., 13.,\n",
       "       14., 15., 16., 17., 18., 19., 20., 21., 22., 23., 24., 25., 26.,\n",
       "       27., 28., 29., 30., 31., 32., 33., 34., 35., 36., 37., 38., 39.,\n",
       "       40., 41., 42., 43., 44., 45., 46., 47., 48., 49., 50.])"
      ]
     },
     "execution_count": 164,
     "metadata": {},
     "output_type": "execute_result"
    }
   ],
   "source": [
    "np.linspace(1, AA.shape[0])"
   ]
  },
  {
   "cell_type": "code",
   "execution_count": 194,
   "metadata": {},
   "outputs": [],
   "source": [
    "from plotnine import ggplot, aes, geom_point, geom_line, ggsave, labs\n",
    "import warnings\n",
    "warnings.filterwarnings('ignore')"
   ]
  },
  {
   "cell_type": "code",
   "execution_count": 196,
   "metadata": {},
   "outputs": [],
   "source": [
    "import tqdm"
   ]
  },
  {
   "cell_type": "code",
   "execution_count": 199,
   "metadata": {},
   "outputs": [
    {
     "name": "stderr",
     "output_type": "stream",
     "text": [
      "100%|██████████| 81/81 [00:32<00:00,  2.46it/s]\n"
     ]
    }
   ],
   "source": [
    "eigs = np.sort(np.linalg.eig(AA)[0])\n",
    "with imageio.get_writer(\"../results/sjResults/gifs_and_images/EV.gif\") as writer:\n",
    "    for n in tqdm.tqdm(nums):\n",
    "        AA = np.loadtxt(\"../results/sjResults/matrices/\"+str(n)+\".txt\")\n",
    "        df = pd.DataFrame( np.sort(np.diag(AA)), columns=[\"value\"])\n",
    "        df[\"i\"] = np.linspace(1, AA.shape[0])\n",
    "        df[\"true\"] = eigs\n",
    "        p = (\n",
    "            ggplot(df,aes(x=\"i\")) + geom_point(aes(y=\"value\")) + geom_line(aes(y=\"true\"), color=\"red\") +\n",
    "            labs(x=\"\", y=\"\", title=\"itteration \" + str(n))\n",
    "        )\n",
    "        p.save(\"./B.jpeg\")\n",
    "        image = imageio.imread(\"./B.jpeg\")\n",
    "        writer.append_data(image)\n",
    "\n",
    "#df[\"ev\"] = np.sort(np.diag[AA])"
   ]
  }
 ],
 "metadata": {
  "kernelspec": {
   "display_name": "Python 3.6.8 ('env')",
   "language": "python",
   "name": "python3"
  },
  "language_info": {
   "codemirror_mode": {
    "name": "ipython",
    "version": 3
   },
   "file_extension": ".py",
   "mimetype": "text/x-python",
   "name": "python",
   "nbconvert_exporter": "python",
   "pygments_lexer": "ipython3",
   "version": "3.6.8"
  },
  "orig_nbformat": 4,
  "vscode": {
   "interpreter": {
    "hash": "a4d5f097349d326f04b0c2ff0e516059719620a22662a232cbe6e86a824ba70a"
   }
  }
 },
 "nbformat": 4,
 "nbformat_minor": 2
}
